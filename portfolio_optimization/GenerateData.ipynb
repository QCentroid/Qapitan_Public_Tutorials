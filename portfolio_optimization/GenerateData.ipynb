{
 "cells": [
  {
   "cell_type": "code",
   "execution_count": 1,
   "id": "cd80d303-3ac2-41e1-97e1-a4102edbaee1",
   "metadata": {},
   "outputs": [],
   "source": [
    "#############################################################################\n",
    "#INSTRUCTIONS:\n",
    "#INSTALL ALL DEPENDENCIES AND RUN FIRST CELL. IT WILL CREATE THE DIRECTORY STRUCTURE\n",
    "#COPY SOME DATASETS(BEGIN WITH THE SMALLER ONE) FROM DATASET FOLDER TO DATA/TEXT FOLDER. FOR EXAMPLE, IBEX AND Cryptos DATASET\n",
    "#RUN THE SECOND CELL TO CHECK THAT ALL THE INTERMEDIATE FILES ARE CREATED\n",
    "#CREATE A FOLDER IN YOUR WORKING DIRECTORY NAMED JSON\n",
    "#RUN THE THIRD CELL TO CHECK YOU HAVE SEVERAL JSONs TO TEST\n",
    "#REPEAT FROM SECOND STEP WITH BIGGER DATASETS TO TEST SCALABILITY\n",
    "############################################################################\n",
    "\n",
    "import yfinance as yf\n",
    "import pandas as pd\n",
    "import numpy as np\n",
    "import os\n",
    "from os import walk\n",
    "from multiprocessing import Pool\n",
    "import Parallel\n",
    "from functools import partial\n",
    "import json\n",
    "\n",
    "Parallel.prepare_tree()"
   ]
  },
  {
   "cell_type": "code",
   "execution_count": 4,
   "id": "714f2d85-3649-45a4-982b-644e8121f0af",
   "metadata": {
    "tags": []
   },
   "outputs": [],
   "source": [
    "\n",
    "alpha=0.95\n",
    "def get_all_data():\n",
    "    path='Data/'\n",
    "    f=[]\n",
    "    for (dirpath, dirnames, filenames) in walk(path+'Text'):\n",
    "        f.extend([x.replace('.txt','') for x in filenames])\n",
    "        break\n",
    "    pool=Pool(len(f))\n",
    "    pool.map(partial(Parallel.get_dataset,alpha=alpha),f)\n",
    "get_all_data()"
   ]
  },
  {
   "cell_type": "code",
   "execution_count": 5,
   "id": "497eb48f-2867-46d1-ad03-3605cf5650c6",
   "metadata": {},
   "outputs": [],
   "source": [
    "def generateJSONs():\n",
    "    path='Data/'\n",
    "    f=[]\n",
    "    for (dirpath, dirnames, filenames) in walk(path+'Text'):\n",
    "        f.extend([x.replace('.txt','') for x in filenames])\n",
    "        break\n",
    "    dates=['2022-09-01','2022-08-31']\n",
    "    for dataset in f:\n",
    "        for date in dates:\n",
    "            d=Parallel.generateJSON(dataset,date,10000000)\n",
    "            with open('JSON/'+dataset+'_'+date.replace('-','')+'.json', 'w') as outfile:\n",
    "                outfile.write(d)\n",
    "generateJSONs()           "
   ]
  },
  {
   "cell_type": "code",
   "execution_count": null,
   "id": "97b50a27-a414-463d-a124-27632b8ab843",
   "metadata": {},
   "outputs": [],
   "source": []
  }
 ],
 "metadata": {
  "kernelspec": {
   "display_name": "Python 3.8.8 ('qiskit24')",
   "language": "python",
   "name": "python3"
  },
  "language_info": {
   "codemirror_mode": {
    "name": "ipython",
    "version": 3
   },
   "file_extension": ".py",
   "mimetype": "text/x-python",
   "name": "python",
   "nbconvert_exporter": "python",
   "pygments_lexer": "ipython3",
   "version": "3.8.8"
  },
  "vscode": {
   "interpreter": {
    "hash": "1e5366f5d7ab9e8029fecb4dc2357caf5baebd045e63e09a01f53b8832049681"
   }
  }
 },
 "nbformat": 4,
 "nbformat_minor": 5
}
