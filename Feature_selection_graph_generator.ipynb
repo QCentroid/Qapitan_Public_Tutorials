{
 "cells": [
  {
   "cell_type": "markdown",
   "id": "e701ab3a-b9ab-4cd0-b9e3-f5ef1a98e0df",
   "metadata": {},
   "source": [
    "## Feature selection graph generator\n",
    "This notebook will generate the JSON for the feature selection solver.\n",
    "You need to fill the first cell with this parameters:\n",
    "* input_filename: Relative or absolute path of your dataset file\n",
    "* output_filename: Relative or absolute path of your JSON output file (this will be the JSON for the quantum solver)\n",
    "* difference_field: This is the name of the dataset’s classification column for your ML algorithm\n",
    "* cols_excluded: Columns to be excluded for the analysis. Typically, text columns. If you want to include non-numerical columns, you will need to transformate into numerical columns.\n",
    "* (optional) lower and/or upper bound: These two optional parameters will determine the range of the lengths of different solutions for the solver. By default, the solver will use the range (1..N) with N number of features in your dataset. For each value from lower_bound to upper_bound the solver will run one time, so the number of solver executions will be \\(upper_bound - lower_bound + 1\\)\n",
    "\n",
    "For testing purpose, you can use this dataset: https://www.kaggle.com/code/ryanholbrook/binary-classification/data?select=songs.csv\n",
    "\n",
    "The quantum solver output will have this format:\n",
    "\\[ { i : [$a_{1}$ $\\ldots$ $a_{i}$] } ], i=lower_bound$\\ldots$upper_bound"
   ]
  },
  {
   "cell_type": "code",
   "execution_count": 16,
   "id": "3ae1a882-68f2-469c-bd95-1e35fad98e29",
   "metadata": {},
   "outputs": [],
   "source": [
    "#Configuration variables\n",
    "\n",
    "input_filename=\"..//Test//songs.csv\" #Name of your file\n",
    "output_filename='..//Feature_selection_quantum//input.json' #Name of the JSON output file\n",
    "cols_excluded=[] #Columns to be discarded\n",
    "difference_field='year' #Classification column\n",
    "extra_arguments={'lower_bound':8,\n",
    "                 'upper_bound':8} #The feature selection algorithm will run for every number of selected features between lower_bound and upper_bound."
   ]
  },
  {
   "cell_type": "code",
   "execution_count": 9,
   "id": "70485116-9c4c-4990-8726-7345c76272df",
   "metadata": {},
   "outputs": [],
   "source": [
    "import pandas as pd\n",
    "import itertools\n",
    "import json\n",
    "import multiprocessing, logging\n",
    "from joblib import Parallel, delayed\n",
    "import sys\n",
    "from tqdm import tqdm\n",
    "import numpy as np"
   ]
  },
  {
   "cell_type": "markdown",
   "id": "8ea546d8-dc86-4060-ad74-094bd4c93348",
   "metadata": {
    "tags": []
   },
   "source": [
    "### Auxiliary functions\n",
    "These functions belong to information theory (https://en.wikipedia.org/wiki/Information_theory)"
   ]
  },
  {
   "cell_type": "code",
   "execution_count": 10,
   "id": "5746af76-0812-4660-9377-c3fa2bf92f61",
   "metadata": {},
   "outputs": [],
   "source": [
    "def prob(dataset, max_bins=10):\n",
    "    \"\"\"Joint probability distribution P(X) for the given data.\"\"\"\n",
    "\n",
    "    # bin by the number of different values per feature\n",
    "    num_rows, num_columns = dataset.shape\n",
    "    bins = [min(len(np.unique(dataset[:, ci])), max_bins) for ci in range(num_columns)]\n",
    "\n",
    "    freq, _ = np.histogramdd(dataset, bins)\n",
    "    p = freq / np.sum(freq)\n",
    "    return p\n",
    "\n",
    "def shannon_entropy(p):\n",
    "    \"\"\"Shannon entropy H(X) is the sum of P(X)log(P(X)) for probabilty distribution P(X).\"\"\"\n",
    "    p = p.flatten()\n",
    "    return -sum(pi*np.log2(pi) for pi in p if pi)\n",
    "\n",
    "def conditional_shannon_entropy(p, *conditional_indices):\n",
    "    \"\"\"Shannon entropy of P(X) conditional on variable j\"\"\"\n",
    "\n",
    "    axis = tuple(i for i in np.arange(len(p.shape)) if i not in conditional_indices)\n",
    "\n",
    "    return shannon_entropy(p) - shannon_entropy(np.sum(p, axis=axis))\n",
    "\n",
    "def mutual_information(p, j):\n",
    "    \"\"\"Mutual information between all variables and variable j\"\"\"\n",
    "    return shannon_entropy(np.sum(p, axis=j)) - conditional_shannon_entropy(p, j)\n",
    "\n",
    "def conditional_mutual_information(p, j, *conditional_indices):\n",
    "    \"\"\"Mutual information between variables X and variable Y conditional on variable Z.\"\"\"\n",
    "\n",
    "    marginal_conditional_indices = [i-1 if i > j else i for i in conditional_indices]\n",
    "\n",
    "    return (conditional_shannon_entropy(np.sum(p, axis=j), *marginal_conditional_indices)\n",
    "            - conditional_shannon_entropy(p, j, *conditional_indices))\n",
    "def parallel_function(f0,f1,difference_field,data):\n",
    "    return (f0,f1,conditional_mutual_information(prob(data[[difference_field, f0, f1]].values), 1, 2),conditional_mutual_information(prob(data[[difference_field, f1, f0]].values), 1, 2))"
   ]
  },
  {
   "cell_type": "markdown",
   "id": "49f99f14-dd9b-405e-912f-a8c8356c8078",
   "metadata": {},
   "source": [
    "### Pandas dataset read\n",
    "This block intends to read your file into a Pandas dataset, discarding the column set in cols_excluded parameter. \n",
    "Please, use the Pandas reader suitable for your file (CSV, Pickle, Parquet...) and remove NaN of your dataset"
   ]
  },
  {
   "cell_type": "code",
   "execution_count": 11,
   "id": "dd048de6-5a23-4216-9805-62beb0f43805",
   "metadata": {},
   "outputs": [],
   "source": [
    "#Get a Pandas Dataframe from your file. In this example it is a CSV\n",
    "data=pd.read_csv(input_filename,sep=',').drop(cols_excluded,axis=1)\n",
    "data=data.fillna(0)"
   ]
  },
  {
   "cell_type": "markdown",
   "id": "00495b45-27cd-4466-9bbf-be2bd8794a32",
   "metadata": {},
   "source": [
    "### Graph generator\n",
    "This block generates the graph needed for the algorithm. It uses tqdm module to watch vertex and edges generation. \n",
    "For edge generation, the code is parallelized with Joblib\n",
    "\n"
   ]
  },
  {
   "cell_type": "code",
   "execution_count": 12,
   "id": "19d27aa0-3086-413c-8b5b-c7042e487eee",
   "metadata": {},
   "outputs": [
    {
     "name": "stderr",
     "output_type": "stream",
     "text": [
      "100%|██████████████████████████████████████████████████████████████████████████████████| 90/90 [00:12<00:00,  7.37it/s]\n",
      "100%|██████████████████████████████████████████████████████████████████████████████| 4005/4005 [07:02<00:00,  9.49it/s]\n"
     ]
    }
   ],
   "source": [
    "mi = {}\n",
    "features = list(set(data.columns).difference((difference_field,)))\n",
    "for feature in tqdm(features):\n",
    "    mi[feature] = mutual_information(prob(data[[difference_field, feature]].values), 1)\n",
    "cmi={}\n",
    "i=0\n",
    "for f0 in features:\n",
    "    cmi[f0]={}\n",
    "    for f1 in features:\n",
    "        if(f0!=f1):\n",
    "            cmi[f0][f1]=0\n",
    "x=list(itertools.combinations(features, 2))\n",
    "res = Parallel(n_jobs=-1,require='sharedmem')(delayed(parallel_function)(s[0],s[1],difference_field,data) for s in tqdm(x))\n",
    "for x in res:\n",
    "    cmi[x[0]][x[1]]=x[2]\n",
    "    cmi[x[1]][x[0]]=x[3]\n",
    "graph={}\n",
    "graph['vertex']=mi\n",
    "graph['edges']=cmi"
   ]
  },
  {
   "cell_type": "markdown",
   "id": "e8c06ba9-f127-48e1-9427-e0e7a788bce5",
   "metadata": {},
   "source": [
    "### Writing block\n",
    "This block will generate the JSON representation of your graph and fill with other parameters. It will write it to the output_filename and also to your console"
   ]
  },
  {
   "cell_type": "code",
   "execution_count": null,
   "id": "d0ab689b-6ebb-482c-8fcc-f90341800678",
   "metadata": {},
   "outputs": [],
   "source": [
    "final_json={}\n",
    "final_json['data']=graph\n",
    "final_json['extra_arguments']=extra_arguments\n",
    "json_str=json.dumps(final_json,indent=4)\n",
    "with  open(output_filename,\"wt\") as f:\n",
    "    f.write(json_str)\n",
    "print(json_str)"
   ]
  },
  {
   "cell_type": "code",
   "execution_count": null,
   "id": "a127cb97-843d-4028-b43c-f9e8021fd735",
   "metadata": {},
   "outputs": [],
   "source": []
  }
 ],
 "metadata": {
  "kernelspec": {
   "display_name": "Python 3 (ipykernel)",
   "language": "python",
   "name": "python3"
  },
  "language_info": {
   "codemirror_mode": {
    "name": "ipython",
    "version": 3
   },
   "file_extension": ".py",
   "mimetype": "text/x-python",
   "name": "python",
   "nbconvert_exporter": "python",
   "pygments_lexer": "ipython3",
   "version": "3.9.12"
  }
 },
 "nbformat": 4,
 "nbformat_minor": 5
}
