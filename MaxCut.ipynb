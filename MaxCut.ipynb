{
 "cells": [
  {
   "cell_type": "markdown",
   "metadata": {},
   "source": [
    "# MaxCut\n",
    "\n",
    "#### An optimization algorithm by Qapitán\n",
    "\n",
    "The MaxCut problem is a classic optimization problem. The problem is, essentially, the following:\n",
    "\n",
    "We have a series of nodes defining a graph. These nodes are connected by some edges determining the relationship between the different nodes. We can select the nodes to have two states, in this case colors for instance. The problem is to find the combination of colors such that the maximum possible number of edges have the two nodes they connect with different colors. \n",
    "\n",
    "This problem is known to be NP-Complete, that is, it is really hard to find the optimal solution to it. If we have a graph with N nodes, the amount of possible solution grows exponentially. Comparing one solution to another one is easy, but finding the best one is similar to looking for a needle in a haystack.\n",
    "\n",
    "In this example, we need to determine a graph to define the problem. The graph can be defined in several ways, for instance using the `networkx` package. Then, a series containing all the edges is introduced into the **Qapitán API**, who looks for the optimal solution in an easy way. The solution is showed afterwards. \n",
    "\n",
    "Take into account that the hardest piece of this problem is finding the optimal solution. This step is completely addressed by the **Qapitán**, while the users / cabin boys and girls do not have to worry about it. \n"
   ]
  },
  {
   "cell_type": "markdown",
   "metadata": {},
   "source": [
    "Here you can see an easy example. This 5 nodes graph have an easy solution to check. You can see that this one is optimal"
   ]
  },
  {
   "cell_type": "code",
   "execution_count": 1,
   "metadata": {},
   "outputs": [],
   "source": [
    "# Import some auxiliary packages. Make sure that all packages are installed\n",
    "import networkx as nx\n",
    "import numpy as np\n",
    "from Qcentroid_SDK import Qcentroid_SDK\n",
    "import time\n",
    "from IPython.display import display, clear_output"
   ]
  },
  {
   "cell_type": "code",
   "execution_count": 2,
   "metadata": {},
   "outputs": [
    {
     "data": {
      "image/png": "[encoded data removed]",
      "text/plain": [
       "<Figure size 432x288 with 1 Axes>"
      ]
     },
     "metadata": {},
     "output_type": "display_data"
    }
   ],
   "source": [
    "edges = [[0,1],[0,2],[1,3],[2,3],[2,4],[3,4]]\n",
    "\n",
    "G = nx.Graph()\n",
    "G.add_edges_from(edges)\n",
    "\n",
    "solution = [0,1,1,0,0]\n",
    "colors = ['C%s'%s for s in solution]\n",
    "\n",
    "nx.draw(G, with_labels=True, node_color = colors)"
   ]
  },
  {
   "cell_type": "markdown",
   "metadata": {},
   "source": [
    "Let us move now to a more complicated graph. "
   ]
  },
  {
   "cell_type": "markdown",
   "metadata": {},
   "source": [
    "Now it is time to define the problem. In particular, the algorithm and provider must be specified. We are in the advent of quantum computing, and thus we will use simulations by now. We use an annealing scheme simulated using the DWave technology.\n"
   ]
  },
  {
   "cell_type": "code",
   "execution_count": 3,
   "metadata": {},
   "outputs": [],
   "source": [
    "# Define the problem\n",
    "\n",
    "algorithm = \"maxcut/dwave/annealing_sim\"\n",
    "provider = \"local\"\n",
    "PAYLOAD_MAXCUT_1 = {\n",
    "    \"problem\": \"maxcut_problem\",\n",
    "        \"data\": {\n",
    "        \"edges\": edges\n",
    "    },\n",
    "    \"algorithm\": algorithm,\n",
    "    \"provider\": provider,\n",
    "    \"arguments\": {\n",
    "    }\n",
    "}\n",
    "\n",
    "\n",
    "QAPITAN_PUBLIC_API = \"https://api.qcentroid.xyz\"\n",
    "PAYLOAD_USER = {\"username\": \"...\", \"password\": \"...\"}\n"
   ]
  },
  {
   "cell_type": "code",
   "execution_count": 4,
   "metadata": {},
   "outputs": [
    {
     "name": "stdout",
     "output_type": "stream",
     "text": [
      "{'username': 'sergio@qapitan.com', 'password': 'qapitan'}\n"
     ]
    }
   ],
   "source": [
    "qcentroid_api = Qcentroid_SDK(QAPITAN_PUBLIC_API, PAYLOAD_USER)\n",
    "header = qcentroid_api.login()"
   ]
  },
  {
   "cell_type": "code",
   "execution_count": 5,
   "metadata": {},
   "outputs": [
    {
     "name": "stdout",
     "output_type": "stream",
     "text": [
      "{'detail': 'Authorized. Processing file', 'job': 'MMXDNH7AJ5U9'}\n"
     ]
    }
   ],
   "source": [
    "#WAIT UNTIL FINISHED\n",
    "response_json = qcentroid_api.execute(header=header, problem='maxcut', payload=PAYLOAD_MAXCUT_1)\n",
    "print(response_json)"
   ]
  },
  {
   "cell_type": "code",
   "execution_count": 6,
   "metadata": {},
   "outputs": [],
   "source": [
    "job_id = response_json['job']"
   ]
  },
  {
   "cell_type": "code",
   "execution_count": 7,
   "metadata": {},
   "outputs": [
    {
     "name": "stdout",
     "output_type": "stream",
     "text": [
      "Execution Result:\n",
      "{'status': 'FINISHED', 'started_at': '02/12/2022, 21:02:23', 'end_at': '02/12/2022, 21:04:00', 'executions': {'Solver_Qapitan_QUBO_Framework-Maxcut-qaoa-pennylane-local': {'started_at': '', 'end_at': '', 'status': 'IN_PROGRESS', 'data': {'edges': [[0, 1], [0, 2], [1, 3], [2, 3], [2, 4], [3, 4]]}, 'arguments': '', 'result': ''}, 'Solver_Qapitan_QUBO_Framework-Maxcut-annealing_sim-dwave-local-v2': {'started_at': '', 'end_at': '02/12/2022, 21:03:52', 'status': 'SUCCESS', 'data': {'edges': [[0, 1], [0, 2], [1, 3], [2, 3], [2, 4], [3, 4]]}, 'arguments': '', 'result': [[0, 1, 1, 0, 0], [-5, -0.22727272727272727]]}, 'Solver_Qapitan_QUBO_Framework-Maxcut-geneticalgorithm-classic-local': {'started_at': '', 'end_at': '02/12/2022, 21:03:48', 'status': 'SUCCESS', 'data': {'edges': [[0, 1], [0, 2], [1, 3], [2, 3], [2, 4], [3, 4]]}, 'arguments': '', 'result': [[0, 1, 1, 0, 0], [-5, -0.22727272727272727]]}}}\n"
     ]
    }
   ],
   "source": [
    "result = qcentroid_api.get_result(header=header, job_name=response_json['job'])\n",
    "\n",
    "while(job_id not in result['job'] or result['job'][job_id]['status'] != 'FINISHED'):\n",
    "\tif(job_id in result['job']):\n",
    "\t\tdisplay(result['job'][job_id]['status'])\n",
    "\telse:\n",
    "\t\tdisplay('LOADING')\n",
    "\ttime.sleep(3)\n",
    "\tclear_output(wait=True)\n",
    "\tresult = qapitan_api.get_result(header=header, job_name=response_json['job'])\n",
    "\n",
    "clear_output(wait=True)\n",
    "# Print result\n",
    "print(\"Execution Result:\")\n",
    "print(result['job'][job_id])\n",
    "\n",
    "solution = result['job'][job_id]"
   ]
  },
  {
   "cell_type": "code",
   "execution_count": 10,
   "metadata": {},
   "outputs": [
    {
     "data": {
      "text/plain": [
       "{'job': {'MMXDNH7AJ5U9': {'status': 'FINISHED',\n",
       "   'started_at': '02/12/2022, 21:02:23',\n",
       "   'end_at': '02/12/2022, 21:04:00',\n",
       "   'executions': {'Solver_Qapitan_QUBO_Framework-Maxcut-qaoa-pennylane-local': {'started_at': '',\n",
       "     'end_at': '',\n",
       "     'status': 'IN_PROGRESS',\n",
       "     'data': {'edges': [[0, 1], [0, 2], [1, 3], [2, 3], [2, 4], [3, 4]]},\n",
       "     'arguments': '',\n",
       "     'result': ''},\n",
       "    'Solver_Qapitan_QUBO_Framework-Maxcut-annealing_sim-dwave-local-v2': {'started_at': '',\n",
       "     'end_at': '02/12/2022, 21:03:52',\n",
       "     'status': 'SUCCESS',\n",
       "     'data': {'edges': [[0, 1], [0, 2], [1, 3], [2, 3], [2, 4], [3, 4]]},\n",
       "     'arguments': '',\n",
       "     'result': [[0, 1, 1, 0, 0], [-5, -0.22727272727272727]]},\n",
       "    'Solver_Qapitan_QUBO_Framework-Maxcut-geneticalgorithm-classic-local': {'started_at': '',\n",
       "     'end_at': '02/12/2022, 21:03:48',\n",
       "     'status': 'SUCCESS',\n",
       "     'data': {'edges': [[0, 1], [0, 2], [1, 3], [2, 3], [2, 4], [3, 4]]},\n",
       "     'arguments': '',\n",
       "     'result': [[0, 1, 1, 0, 0], [-5, -0.22727272727272727]]}}}}}"
      ]
     },
     "execution_count": 10,
     "metadata": {},
     "output_type": "execute_result"
    }
   ],
   "source": [
    "result"
   ]
  },
  {
   "cell_type": "code",
   "execution_count": 16,
   "metadata": {},
   "outputs": [
    {
     "name": "stdout",
     "output_type": "stream",
     "text": [
      "[0, 1, 1, 0, 0]\n"
     ]
    }
   ],
   "source": [
    "solution = qcentroid_api.get_best_result(header, response_json['job'])[0]\n",
    "print(solution)"
   ]
  },
  {
   "cell_type": "code",
   "execution_count": 17,
   "metadata": {},
   "outputs": [
    {
     "data": {
      "image/png": "[encoded data removed]",
      "text/plain": [
       "<Figure size 432x288 with 1 Axes>"
      ]
     },
     "metadata": {},
     "output_type": "display_data"
    }
   ],
   "source": [
    "colors = solution\n",
    "nx.draw(G, with_labels=True, node_color = colors)"
   ]
  }
 ],
 "metadata": {
  "interpreter": {
   "hash": "1e5366f5d7ab9e8029fecb4dc2357caf5baebd045e63e09a01f53b8832049681"
  },
  "kernelspec": {
   "display_name": "Python 3",
   "language": "python",
   "name": "python3"
  },
  "language_info": {
   "codemirror_mode": {
    "name": "ipython",
    "version": 3
   },
   "file_extension": ".py",
   "mimetype": "text/x-python",
   "name": "python",
   "nbconvert_exporter": "python",
   "pygments_lexer": "ipython3",
   "version": "3.8.8"
  },
  "metadata": {
   "interpreter": {
    "hash": "1e18502cbe4e9a957e25854f40bca2fddafc6b06b306f48e68b76192cd062114"
   }
  }
 },
 "nbformat": 4,
 "nbformat_minor": 4
}
